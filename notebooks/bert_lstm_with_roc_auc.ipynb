{
  "nbformat": 4,
  "nbformat_minor": 0,
  "metadata": {
    "colab": {
      "provenance": [],
      "authorship_tag": "ABX9TyMsX+y/fJoJAtCJKY+at/fJ"
    },
    "kernelspec": {
      "name": "python3",
      "display_name": "Python 3"
    },
    "language_info": {
      "name": "python"
    }
  },
  "cells": [
    {
      "cell_type": "code",
      "execution_count": 1,
      "metadata": {
        "colab": {
          "base_uri": "https://localhost:8080/"
        },
        "id": "68WGHR4NXrrL",
        "outputId": "7914cd9c-6ad0-4fc8-dbed-dbfb2e97f885"
      },
      "outputs": [
        {
          "output_type": "stream",
          "name": "stdout",
          "text": [
            "\u001b[2K     \u001b[90m━━━━━━━━━━━━━━━━━━━━━━━━━━━━━━━━━━━━━━━━\u001b[0m \u001b[32m89.4/89.4 kB\u001b[0m \u001b[31m2.2 MB/s\u001b[0m eta \u001b[36m0:00:00\u001b[0m\n",
            "\u001b[2K     \u001b[90m━━━━━━━━━━━━━━━━━━━━━━━━━━━━━━━━━━━━━━━━\u001b[0m \u001b[32m7.6/7.6 MB\u001b[0m \u001b[31m87.9 MB/s\u001b[0m eta \u001b[36m0:00:00\u001b[0m\n",
            "\u001b[2K     \u001b[90m━━━━━━━━━━━━━━━━━━━━━━━━━━━━━━━━━━━━━━\u001b[0m \u001b[32m294.8/294.8 kB\u001b[0m \u001b[31m29.9 MB/s\u001b[0m eta \u001b[36m0:00:00\u001b[0m\n",
            "\u001b[2K     \u001b[90m━━━━━━━━━━━━━━━━━━━━━━━━━━━━━━━━━━━━━━━━\u001b[0m \u001b[32m7.8/7.8 MB\u001b[0m \u001b[31m116.3 MB/s\u001b[0m eta \u001b[36m0:00:00\u001b[0m\n",
            "\u001b[2K     \u001b[90m━━━━━━━━━━━━━━━━━━━━━━━━━━━━━━━━━━━━━━━━\u001b[0m \u001b[32m1.3/1.3 MB\u001b[0m \u001b[31m79.4 MB/s\u001b[0m eta \u001b[36m0:00:00\u001b[0m\n",
            "\u001b[?25h"
          ]
        }
      ],
      "source": [
        "!pip install -q scikit-multilearn transformers"
      ]
    },
    {
      "cell_type": "code",
      "source": [
        "import pandas as pd\n",
        "import numpy as np"
      ],
      "metadata": {
        "id": "DMw2YtM1X9bS"
      },
      "execution_count": 2,
      "outputs": []
    },
    {
      "cell_type": "code",
      "source": [
        "# only run this once!\n",
        "from google.colab import drive\n",
        "\n",
        "drive.mount('/content/drive')"
      ],
      "metadata": {
        "colab": {
          "base_uri": "https://localhost:8080/"
        },
        "id": "lzwfmMBPX-vB",
        "outputId": "b45e6bd0-9984-4e6b-e5d4-3b117f957f71"
      },
      "execution_count": 3,
      "outputs": [
        {
          "output_type": "stream",
          "name": "stdout",
          "text": [
            "Mounted at /content/drive\n"
          ]
        }
      ]
    },
    {
      "cell_type": "code",
      "source": [
        "import zipfile\n",
        "import io\n",
        "\n",
        "ZIP_FILE_PATH = \"drive/MyDrive/personal_projects/movie_genre_prediction/clean_data.zip\"\n",
        "zf = zipfile.ZipFile(ZIP_FILE_PATH, \"r\")\n",
        "zf.extractall()"
      ],
      "metadata": {
        "id": "tOnHIzdPYOp5"
      },
      "execution_count": 4,
      "outputs": []
    },
    {
      "cell_type": "code",
      "source": [
        "big_data_df = pd.read_csv('raw_data/clean_data/clean_big_data.csv').drop(columns=['Unnamed: 0'])\n",
        "big_data_df.head(1)"
      ],
      "metadata": {
        "colab": {
          "base_uri": "https://localhost:8080/",
          "height": 81
        },
        "id": "LxPxDlIuYSsG",
        "outputId": "436d417c-f8c6-4f32-a985-daac09c399cb"
      },
      "execution_count": 5,
      "outputs": [
        {
          "output_type": "execute_result",
          "data": {
            "text/plain": [
              "     imdb_id                               genre  \\\n",
              "0  tt1517268  ['Adventure', 'Comedy', 'Fantasy']   \n",
              "\n",
              "                                                plot  \n",
              "0  barbie suffers a crisis that leads her to ques...  "
            ],
            "text/html": [
              "\n",
              "  <div id=\"df-175d4835-6e38-47e5-a8e2-6ec901fe5254\" class=\"colab-df-container\">\n",
              "    <div>\n",
              "<style scoped>\n",
              "    .dataframe tbody tr th:only-of-type {\n",
              "        vertical-align: middle;\n",
              "    }\n",
              "\n",
              "    .dataframe tbody tr th {\n",
              "        vertical-align: top;\n",
              "    }\n",
              "\n",
              "    .dataframe thead th {\n",
              "        text-align: right;\n",
              "    }\n",
              "</style>\n",
              "<table border=\"1\" class=\"dataframe\">\n",
              "  <thead>\n",
              "    <tr style=\"text-align: right;\">\n",
              "      <th></th>\n",
              "      <th>imdb_id</th>\n",
              "      <th>genre</th>\n",
              "      <th>plot</th>\n",
              "    </tr>\n",
              "  </thead>\n",
              "  <tbody>\n",
              "    <tr>\n",
              "      <th>0</th>\n",
              "      <td>tt1517268</td>\n",
              "      <td>['Adventure', 'Comedy', 'Fantasy']</td>\n",
              "      <td>barbie suffers a crisis that leads her to ques...</td>\n",
              "    </tr>\n",
              "  </tbody>\n",
              "</table>\n",
              "</div>\n",
              "    <div class=\"colab-df-buttons\">\n",
              "\n",
              "  <div class=\"colab-df-container\">\n",
              "    <button class=\"colab-df-convert\" onclick=\"convertToInteractive('df-175d4835-6e38-47e5-a8e2-6ec901fe5254')\"\n",
              "            title=\"Convert this dataframe to an interactive table.\"\n",
              "            style=\"display:none;\">\n",
              "\n",
              "  <svg xmlns=\"http://www.w3.org/2000/svg\" height=\"24px\" viewBox=\"0 -960 960 960\">\n",
              "    <path d=\"M120-120v-720h720v720H120Zm60-500h600v-160H180v160Zm220 220h160v-160H400v160Zm0 220h160v-160H400v160ZM180-400h160v-160H180v160Zm440 0h160v-160H620v160ZM180-180h160v-160H180v160Zm440 0h160v-160H620v160Z\"/>\n",
              "  </svg>\n",
              "    </button>\n",
              "\n",
              "  <style>\n",
              "    .colab-df-container {\n",
              "      display:flex;\n",
              "      gap: 12px;\n",
              "    }\n",
              "\n",
              "    .colab-df-convert {\n",
              "      background-color: #E8F0FE;\n",
              "      border: none;\n",
              "      border-radius: 50%;\n",
              "      cursor: pointer;\n",
              "      display: none;\n",
              "      fill: #1967D2;\n",
              "      height: 32px;\n",
              "      padding: 0 0 0 0;\n",
              "      width: 32px;\n",
              "    }\n",
              "\n",
              "    .colab-df-convert:hover {\n",
              "      background-color: #E2EBFA;\n",
              "      box-shadow: 0px 1px 2px rgba(60, 64, 67, 0.3), 0px 1px 3px 1px rgba(60, 64, 67, 0.15);\n",
              "      fill: #174EA6;\n",
              "    }\n",
              "\n",
              "    .colab-df-buttons div {\n",
              "      margin-bottom: 4px;\n",
              "    }\n",
              "\n",
              "    [theme=dark] .colab-df-convert {\n",
              "      background-color: #3B4455;\n",
              "      fill: #D2E3FC;\n",
              "    }\n",
              "\n",
              "    [theme=dark] .colab-df-convert:hover {\n",
              "      background-color: #434B5C;\n",
              "      box-shadow: 0px 1px 3px 1px rgba(0, 0, 0, 0.15);\n",
              "      filter: drop-shadow(0px 1px 2px rgba(0, 0, 0, 0.3));\n",
              "      fill: #FFFFFF;\n",
              "    }\n",
              "  </style>\n",
              "\n",
              "    <script>\n",
              "      const buttonEl =\n",
              "        document.querySelector('#df-175d4835-6e38-47e5-a8e2-6ec901fe5254 button.colab-df-convert');\n",
              "      buttonEl.style.display =\n",
              "        google.colab.kernel.accessAllowed ? 'block' : 'none';\n",
              "\n",
              "      async function convertToInteractive(key) {\n",
              "        const element = document.querySelector('#df-175d4835-6e38-47e5-a8e2-6ec901fe5254');\n",
              "        const dataTable =\n",
              "          await google.colab.kernel.invokeFunction('convertToInteractive',\n",
              "                                                    [key], {});\n",
              "        if (!dataTable) return;\n",
              "\n",
              "        const docLinkHtml = 'Like what you see? Visit the ' +\n",
              "          '<a target=\"_blank\" href=https://colab.research.google.com/notebooks/data_table.ipynb>data table notebook</a>'\n",
              "          + ' to learn more about interactive tables.';\n",
              "        element.innerHTML = '';\n",
              "        dataTable['output_type'] = 'display_data';\n",
              "        await google.colab.output.renderOutput(dataTable, element);\n",
              "        const docLink = document.createElement('div');\n",
              "        docLink.innerHTML = docLinkHtml;\n",
              "        element.appendChild(docLink);\n",
              "      }\n",
              "    </script>\n",
              "  </div>\n",
              "\n",
              "    </div>\n",
              "  </div>\n"
            ]
          },
          "metadata": {},
          "execution_count": 5
        }
      ]
    },
    {
      "cell_type": "code",
      "source": [
        "def preprocess_genre(df: pd.DataFrame):\n",
        "    df[\"genre\"] = df[\"genre\"].apply(eval).apply(lambda x: [genre.strip() for genre in x])\n",
        "    return df"
      ],
      "metadata": {
        "id": "PCxBhG1zYURw"
      },
      "execution_count": 6,
      "outputs": []
    },
    {
      "cell_type": "code",
      "source": [
        "big_data_df = preprocess_genre(big_data_df)\n",
        "big_data_df.head(1)"
      ],
      "metadata": {
        "colab": {
          "base_uri": "https://localhost:8080/",
          "height": 81
        },
        "id": "rjQwlx9HYXaS",
        "outputId": "e8b2cdf6-d89d-4a7d-d8c2-169bb02052c9"
      },
      "execution_count": 7,
      "outputs": [
        {
          "output_type": "execute_result",
          "data": {
            "text/plain": [
              "     imdb_id                         genre  \\\n",
              "0  tt1517268  [Adventure, Comedy, Fantasy]   \n",
              "\n",
              "                                                plot  \n",
              "0  barbie suffers a crisis that leads her to ques...  "
            ],
            "text/html": [
              "\n",
              "  <div id=\"df-3bb8b78c-50c7-4ef1-a4ad-5d988ea7d11c\" class=\"colab-df-container\">\n",
              "    <div>\n",
              "<style scoped>\n",
              "    .dataframe tbody tr th:only-of-type {\n",
              "        vertical-align: middle;\n",
              "    }\n",
              "\n",
              "    .dataframe tbody tr th {\n",
              "        vertical-align: top;\n",
              "    }\n",
              "\n",
              "    .dataframe thead th {\n",
              "        text-align: right;\n",
              "    }\n",
              "</style>\n",
              "<table border=\"1\" class=\"dataframe\">\n",
              "  <thead>\n",
              "    <tr style=\"text-align: right;\">\n",
              "      <th></th>\n",
              "      <th>imdb_id</th>\n",
              "      <th>genre</th>\n",
              "      <th>plot</th>\n",
              "    </tr>\n",
              "  </thead>\n",
              "  <tbody>\n",
              "    <tr>\n",
              "      <th>0</th>\n",
              "      <td>tt1517268</td>\n",
              "      <td>[Adventure, Comedy, Fantasy]</td>\n",
              "      <td>barbie suffers a crisis that leads her to ques...</td>\n",
              "    </tr>\n",
              "  </tbody>\n",
              "</table>\n",
              "</div>\n",
              "    <div class=\"colab-df-buttons\">\n",
              "\n",
              "  <div class=\"colab-df-container\">\n",
              "    <button class=\"colab-df-convert\" onclick=\"convertToInteractive('df-3bb8b78c-50c7-4ef1-a4ad-5d988ea7d11c')\"\n",
              "            title=\"Convert this dataframe to an interactive table.\"\n",
              "            style=\"display:none;\">\n",
              "\n",
              "  <svg xmlns=\"http://www.w3.org/2000/svg\" height=\"24px\" viewBox=\"0 -960 960 960\">\n",
              "    <path d=\"M120-120v-720h720v720H120Zm60-500h600v-160H180v160Zm220 220h160v-160H400v160Zm0 220h160v-160H400v160ZM180-400h160v-160H180v160Zm440 0h160v-160H620v160ZM180-180h160v-160H180v160Zm440 0h160v-160H620v160Z\"/>\n",
              "  </svg>\n",
              "    </button>\n",
              "\n",
              "  <style>\n",
              "    .colab-df-container {\n",
              "      display:flex;\n",
              "      gap: 12px;\n",
              "    }\n",
              "\n",
              "    .colab-df-convert {\n",
              "      background-color: #E8F0FE;\n",
              "      border: none;\n",
              "      border-radius: 50%;\n",
              "      cursor: pointer;\n",
              "      display: none;\n",
              "      fill: #1967D2;\n",
              "      height: 32px;\n",
              "      padding: 0 0 0 0;\n",
              "      width: 32px;\n",
              "    }\n",
              "\n",
              "    .colab-df-convert:hover {\n",
              "      background-color: #E2EBFA;\n",
              "      box-shadow: 0px 1px 2px rgba(60, 64, 67, 0.3), 0px 1px 3px 1px rgba(60, 64, 67, 0.15);\n",
              "      fill: #174EA6;\n",
              "    }\n",
              "\n",
              "    .colab-df-buttons div {\n",
              "      margin-bottom: 4px;\n",
              "    }\n",
              "\n",
              "    [theme=dark] .colab-df-convert {\n",
              "      background-color: #3B4455;\n",
              "      fill: #D2E3FC;\n",
              "    }\n",
              "\n",
              "    [theme=dark] .colab-df-convert:hover {\n",
              "      background-color: #434B5C;\n",
              "      box-shadow: 0px 1px 3px 1px rgba(0, 0, 0, 0.15);\n",
              "      filter: drop-shadow(0px 1px 2px rgba(0, 0, 0, 0.3));\n",
              "      fill: #FFFFFF;\n",
              "    }\n",
              "  </style>\n",
              "\n",
              "    <script>\n",
              "      const buttonEl =\n",
              "        document.querySelector('#df-3bb8b78c-50c7-4ef1-a4ad-5d988ea7d11c button.colab-df-convert');\n",
              "      buttonEl.style.display =\n",
              "        google.colab.kernel.accessAllowed ? 'block' : 'none';\n",
              "\n",
              "      async function convertToInteractive(key) {\n",
              "        const element = document.querySelector('#df-3bb8b78c-50c7-4ef1-a4ad-5d988ea7d11c');\n",
              "        const dataTable =\n",
              "          await google.colab.kernel.invokeFunction('convertToInteractive',\n",
              "                                                    [key], {});\n",
              "        if (!dataTable) return;\n",
              "\n",
              "        const docLinkHtml = 'Like what you see? Visit the ' +\n",
              "          '<a target=\"_blank\" href=https://colab.research.google.com/notebooks/data_table.ipynb>data table notebook</a>'\n",
              "          + ' to learn more about interactive tables.';\n",
              "        element.innerHTML = '';\n",
              "        dataTable['output_type'] = 'display_data';\n",
              "        await google.colab.output.renderOutput(dataTable, element);\n",
              "        const docLink = document.createElement('div');\n",
              "        docLink.innerHTML = docLinkHtml;\n",
              "        element.appendChild(docLink);\n",
              "      }\n",
              "    </script>\n",
              "  </div>\n",
              "\n",
              "    </div>\n",
              "  </div>\n"
            ]
          },
          "metadata": {},
          "execution_count": 7
        }
      ]
    },
    {
      "cell_type": "code",
      "source": [
        "from sklearn.preprocessing import MultiLabelBinarizer\n",
        "\n",
        "# Multilabel_binarizer is fit to an array of list of labels\n",
        "multilabel_binarizer = MultiLabelBinarizer()\n",
        "multilabel_binarizer.fit(big_data_df['genre'])\n",
        "\n",
        "#transform target variable\n",
        "y = multilabel_binarizer.transform(big_data_df['genre'])\n",
        "genre_names = multilabel_binarizer.classes_\n",
        "\n",
        "# Adding the name of genres\n",
        "for i in range(len(genre_names)):\n",
        "    big_data_df[f\"{genre_names[i]}\"] = y[:,i]\n",
        "\n",
        "print(y.shape, big_data_df.shape)"
      ],
      "metadata": {
        "colab": {
          "base_uri": "https://localhost:8080/"
        },
        "id": "Mo0ObweWYxEG",
        "outputId": "e2c761a4-66d7-48c1-f893-1e8e96f8f366"
      },
      "execution_count": 8,
      "outputs": [
        {
          "output_type": "stream",
          "name": "stdout",
          "text": [
            "(23140, 22) (23140, 25)\n"
          ]
        }
      ]
    },
    {
      "cell_type": "code",
      "source": [
        "big_data_df.head(1)"
      ],
      "metadata": {
        "colab": {
          "base_uri": "https://localhost:8080/",
          "height": 269
        },
        "id": "t4ZQ-VyzYzFz",
        "outputId": "1e8d8bd3-b948-4990-acbb-eb83c9cd6fe4"
      },
      "execution_count": 9,
      "outputs": [
        {
          "output_type": "execute_result",
          "data": {
            "text/plain": [
              "     imdb_id                         genre  \\\n",
              "0  tt1517268  [Adventure, Comedy, Fantasy]   \n",
              "\n",
              "                                                plot  Action  Adventure  \\\n",
              "0  barbie suffers a crisis that leads her to ques...       0          1   \n",
              "\n",
              "   Animation  Biography  Comedy  Crime  Drama  ...  Music  Musical  Mystery  \\\n",
              "0          0          0       1      0      0  ...      0        0        0   \n",
              "\n",
              "   Reality-TV  Romance  Sci-Fi  Sport  Thriller  War  Western  \n",
              "0           0        0       0      0         0    0        0  \n",
              "\n",
              "[1 rows x 25 columns]"
            ],
            "text/html": [
              "\n",
              "  <div id=\"df-11fed11c-e3f9-43a8-8c7e-19ce3624a8b9\" class=\"colab-df-container\">\n",
              "    <div>\n",
              "<style scoped>\n",
              "    .dataframe tbody tr th:only-of-type {\n",
              "        vertical-align: middle;\n",
              "    }\n",
              "\n",
              "    .dataframe tbody tr th {\n",
              "        vertical-align: top;\n",
              "    }\n",
              "\n",
              "    .dataframe thead th {\n",
              "        text-align: right;\n",
              "    }\n",
              "</style>\n",
              "<table border=\"1\" class=\"dataframe\">\n",
              "  <thead>\n",
              "    <tr style=\"text-align: right;\">\n",
              "      <th></th>\n",
              "      <th>imdb_id</th>\n",
              "      <th>genre</th>\n",
              "      <th>plot</th>\n",
              "      <th>Action</th>\n",
              "      <th>Adventure</th>\n",
              "      <th>Animation</th>\n",
              "      <th>Biography</th>\n",
              "      <th>Comedy</th>\n",
              "      <th>Crime</th>\n",
              "      <th>Drama</th>\n",
              "      <th>...</th>\n",
              "      <th>Music</th>\n",
              "      <th>Musical</th>\n",
              "      <th>Mystery</th>\n",
              "      <th>Reality-TV</th>\n",
              "      <th>Romance</th>\n",
              "      <th>Sci-Fi</th>\n",
              "      <th>Sport</th>\n",
              "      <th>Thriller</th>\n",
              "      <th>War</th>\n",
              "      <th>Western</th>\n",
              "    </tr>\n",
              "  </thead>\n",
              "  <tbody>\n",
              "    <tr>\n",
              "      <th>0</th>\n",
              "      <td>tt1517268</td>\n",
              "      <td>[Adventure, Comedy, Fantasy]</td>\n",
              "      <td>barbie suffers a crisis that leads her to ques...</td>\n",
              "      <td>0</td>\n",
              "      <td>1</td>\n",
              "      <td>0</td>\n",
              "      <td>0</td>\n",
              "      <td>1</td>\n",
              "      <td>0</td>\n",
              "      <td>0</td>\n",
              "      <td>...</td>\n",
              "      <td>0</td>\n",
              "      <td>0</td>\n",
              "      <td>0</td>\n",
              "      <td>0</td>\n",
              "      <td>0</td>\n",
              "      <td>0</td>\n",
              "      <td>0</td>\n",
              "      <td>0</td>\n",
              "      <td>0</td>\n",
              "      <td>0</td>\n",
              "    </tr>\n",
              "  </tbody>\n",
              "</table>\n",
              "<p>1 rows × 25 columns</p>\n",
              "</div>\n",
              "    <div class=\"colab-df-buttons\">\n",
              "\n",
              "  <div class=\"colab-df-container\">\n",
              "    <button class=\"colab-df-convert\" onclick=\"convertToInteractive('df-11fed11c-e3f9-43a8-8c7e-19ce3624a8b9')\"\n",
              "            title=\"Convert this dataframe to an interactive table.\"\n",
              "            style=\"display:none;\">\n",
              "\n",
              "  <svg xmlns=\"http://www.w3.org/2000/svg\" height=\"24px\" viewBox=\"0 -960 960 960\">\n",
              "    <path d=\"M120-120v-720h720v720H120Zm60-500h600v-160H180v160Zm220 220h160v-160H400v160Zm0 220h160v-160H400v160ZM180-400h160v-160H180v160Zm440 0h160v-160H620v160ZM180-180h160v-160H180v160Zm440 0h160v-160H620v160Z\"/>\n",
              "  </svg>\n",
              "    </button>\n",
              "\n",
              "  <style>\n",
              "    .colab-df-container {\n",
              "      display:flex;\n",
              "      gap: 12px;\n",
              "    }\n",
              "\n",
              "    .colab-df-convert {\n",
              "      background-color: #E8F0FE;\n",
              "      border: none;\n",
              "      border-radius: 50%;\n",
              "      cursor: pointer;\n",
              "      display: none;\n",
              "      fill: #1967D2;\n",
              "      height: 32px;\n",
              "      padding: 0 0 0 0;\n",
              "      width: 32px;\n",
              "    }\n",
              "\n",
              "    .colab-df-convert:hover {\n",
              "      background-color: #E2EBFA;\n",
              "      box-shadow: 0px 1px 2px rgba(60, 64, 67, 0.3), 0px 1px 3px 1px rgba(60, 64, 67, 0.15);\n",
              "      fill: #174EA6;\n",
              "    }\n",
              "\n",
              "    .colab-df-buttons div {\n",
              "      margin-bottom: 4px;\n",
              "    }\n",
              "\n",
              "    [theme=dark] .colab-df-convert {\n",
              "      background-color: #3B4455;\n",
              "      fill: #D2E3FC;\n",
              "    }\n",
              "\n",
              "    [theme=dark] .colab-df-convert:hover {\n",
              "      background-color: #434B5C;\n",
              "      box-shadow: 0px 1px 3px 1px rgba(0, 0, 0, 0.15);\n",
              "      filter: drop-shadow(0px 1px 2px rgba(0, 0, 0, 0.3));\n",
              "      fill: #FFFFFF;\n",
              "    }\n",
              "  </style>\n",
              "\n",
              "    <script>\n",
              "      const buttonEl =\n",
              "        document.querySelector('#df-11fed11c-e3f9-43a8-8c7e-19ce3624a8b9 button.colab-df-convert');\n",
              "      buttonEl.style.display =\n",
              "        google.colab.kernel.accessAllowed ? 'block' : 'none';\n",
              "\n",
              "      async function convertToInteractive(key) {\n",
              "        const element = document.querySelector('#df-11fed11c-e3f9-43a8-8c7e-19ce3624a8b9');\n",
              "        const dataTable =\n",
              "          await google.colab.kernel.invokeFunction('convertToInteractive',\n",
              "                                                    [key], {});\n",
              "        if (!dataTable) return;\n",
              "\n",
              "        const docLinkHtml = 'Like what you see? Visit the ' +\n",
              "          '<a target=\"_blank\" href=https://colab.research.google.com/notebooks/data_table.ipynb>data table notebook</a>'\n",
              "          + ' to learn more about interactive tables.';\n",
              "        element.innerHTML = '';\n",
              "        dataTable['output_type'] = 'display_data';\n",
              "        await google.colab.output.renderOutput(dataTable, element);\n",
              "        const docLink = document.createElement('div');\n",
              "        docLink.innerHTML = docLinkHtml;\n",
              "        element.appendChild(docLink);\n",
              "      }\n",
              "    </script>\n",
              "  </div>\n",
              "\n",
              "    </div>\n",
              "  </div>\n"
            ]
          },
          "metadata": {},
          "execution_count": 9
        }
      ]
    },
    {
      "cell_type": "code",
      "source": [
        "from skmultilearn.model_selection import iterative_train_test_split\n",
        "\n",
        "def balanced_split(df: pd.DataFrame, labels: np.array, test_size=0.5):\n",
        "    \"\"\"\n",
        "    index_array: an array of our current df index,\n",
        "    iterative_train_test_split: a function that considers the distribution of possible labels when splitting\n",
        "    \"\"\"\n",
        "    index_array = np.expand_dims(np.arange(len(df)), axis=1)\n",
        "    train_index, y_train, test_index, y_test = iterative_train_test_split(index_array, labels, test_size)\n",
        "    return df.iloc[train_index[:, 0]], y_train, df.iloc[test_index[:, 0]], y_test"
      ],
      "metadata": {
        "id": "65w9NxNsY1Br"
      },
      "execution_count": 10,
      "outputs": []
    },
    {
      "cell_type": "code",
      "source": [
        "# Split dataset to train and test_val (will split test and val again!)\n",
        "train_df, y_train, test_val_df, y_test_val = balanced_split(big_data_df, y, 0.3)\n",
        "print(\n",
        "    train_df.shape,\n",
        "    y_train.shape,\n",
        "    test_val_df.shape,\n",
        "    y_test_val.shape\n",
        "    )"
      ],
      "metadata": {
        "colab": {
          "base_uri": "https://localhost:8080/"
        },
        "id": "sNJQxoe4Y9Gi",
        "outputId": "98cf956d-e474-4ecf-fc89-5972f2e8c765"
      },
      "execution_count": 11,
      "outputs": [
        {
          "output_type": "stream",
          "name": "stdout",
          "text": [
            "(16278, 25) (16278, 22) (6862, 25) (6862, 22)\n"
          ]
        }
      ]
    },
    {
      "cell_type": "code",
      "source": [
        "test_df, y_test, val_df, y_val = balanced_split(test_val_df, y_test_val)\n",
        "print(\n",
        "    test_df.shape,\n",
        "    y_test.shape,\n",
        "    val_df.shape,\n",
        "    y_val.shape\n",
        "    )"
      ],
      "metadata": {
        "colab": {
          "base_uri": "https://localhost:8080/"
        },
        "id": "3fCQ4wD4ZDA8",
        "outputId": "6f03ce5d-b2b7-432a-9f84-5e4ac8c89ee7"
      },
      "execution_count": 12,
      "outputs": [
        {
          "output_type": "stream",
          "name": "stdout",
          "text": [
            "(3414, 25) (3414, 22) (3448, 25) (3448, 22)\n"
          ]
        }
      ]
    },
    {
      "cell_type": "code",
      "source": [
        "from transformers import AutoTokenizer\n",
        "\n",
        "def tokenize_encode_multimodal(df):\n",
        "    tokenizer = AutoTokenizer.from_pretrained(\"bert-base-uncased\")\n",
        "    text = df['plot'].to_list()\n",
        "    encodings = tokenizer(text, truncation = True, padding = True, max_length = 128, return_tensors = \"np\")\n",
        "    return encodings['input_ids'], encodings['attention_mask']"
      ],
      "metadata": {
        "id": "Af9fldrRZpY7"
      },
      "execution_count": 16,
      "outputs": []
    },
    {
      "cell_type": "code",
      "source": [
        "X_train_text, train_attention_mask = tokenize_encode_multimodal(train_df)\n",
        "X_test_text, test_attention_mask = tokenize_encode_multimodal(test_df)\n",
        "X_val_text, val_attention_mask = tokenize_encode_multimodal(val_df)\n",
        "print(X_train_text.shape, train_attention_mask.shape)"
      ],
      "metadata": {
        "colab": {
          "base_uri": "https://localhost:8080/"
        },
        "id": "dtGfXGqeZrlQ",
        "outputId": "d461962e-5cf1-4bdc-d9f6-aa72a1997154"
      },
      "execution_count": 19,
      "outputs": [
        {
          "output_type": "stream",
          "name": "stdout",
          "text": [
            "(16278, 128) (16278, 128)\n"
          ]
        }
      ]
    },
    {
      "cell_type": "code",
      "source": [
        "from transformers import TFBertModel\n",
        "import tensorflow as tf\n",
        "from tensorflow.keras import Model\n",
        "from tensorflow.keras.layers import Input, Dense, Dropout"
      ],
      "metadata": {
        "id": "K5_NB3LeZs_N"
      },
      "execution_count": 25,
      "outputs": []
    },
    {
      "cell_type": "code",
      "source": [
        "def create_bert_model(bert_model, num_classes):\n",
        "    input_ids = Input(shape=(128,), dtype=tf.int32, name='input_word_ids')\n",
        "    attention_masks = Input(shape=(128,), dtype=tf.int32, name='input_attention_masks')\n",
        "    outputs = bert_model([input_ids, attention_masks])\n",
        "    outputs = outputs[1]\n",
        "    outputs = Dense(64, activation='relu')(outputs)\n",
        "    outputs = Dropout(0.4)(outputs)\n",
        "    outputs = Dense(num_classes, activation='sigmoid')(outputs)\n",
        "    model = Model(inputs=[input_ids, attention_masks], outputs=outputs)\n",
        "    return model"
      ],
      "metadata": {
        "id": "zK-vwY0kZvFY"
      },
      "execution_count": 26,
      "outputs": []
    },
    {
      "cell_type": "code",
      "source": [
        "num_classes = y_train.shape[1]\n",
        "bert_model = TFBertModel.from_pretrained('bert-base-uncased')\n",
        "text_model = create_bert_model(bert_model, num_classes)"
      ],
      "metadata": {
        "id": "KLnKzbTuaUKC",
        "colab": {
          "base_uri": "https://localhost:8080/"
        },
        "outputId": "e92970d0-4fb0-48bf-d40b-ca4995602cb3"
      },
      "execution_count": 27,
      "outputs": [
        {
          "output_type": "stream",
          "name": "stderr",
          "text": [
            "Some weights of the PyTorch model were not used when initializing the TF 2.0 model TFBertModel: ['cls.predictions.transform.LayerNorm.weight', 'cls.predictions.bias', 'cls.seq_relationship.weight', 'cls.seq_relationship.bias', 'cls.predictions.transform.dense.bias', 'cls.predictions.transform.dense.weight', 'cls.predictions.transform.LayerNorm.bias']\n",
            "- This IS expected if you are initializing TFBertModel from a PyTorch model trained on another task or with another architecture (e.g. initializing a TFBertForSequenceClassification model from a BertForPreTraining model).\n",
            "- This IS NOT expected if you are initializing TFBertModel from a PyTorch model that you expect to be exactly identical (e.g. initializing a TFBertForSequenceClassification model from a BertForSequenceClassification model).\n",
            "All the weights of TFBertModel were initialized from the PyTorch model.\n",
            "If your task is similar to the task the model of the checkpoint was trained on, you can already use TFBertModel for predictions without further training.\n"
          ]
        }
      ]
    },
    {
      "cell_type": "code",
      "source": [
        "from tensorflow.keras.optimizers import Adam\n",
        "from tensorflow.keras.callbacks import EarlyStopping\n",
        "text_model.compile(Adam(), loss='binary_crossentropy', metrics=['accuracy', 'AUC', 'binary_accuracy'])\n",
        "es = EarlyStopping(monitor = 'val_auc',\n",
        "                   mode = 'max',\n",
        "                   patience = 10,\n",
        "                   verbose = 1,\n",
        "                   restore_best_weights = True)\n",
        "history = text_model.fit([X_train_text, train_attention_mask], tf.convert_to_tensor(y_train), epochs=10, batch_size=16, validation_data=([X_val_text, val_attention_mask], tf.convert_to_tensor(y_val)), callbacks=[es])"
      ],
      "metadata": {
        "colab": {
          "base_uri": "https://localhost:8080/"
        },
        "id": "bLSSKGINAmaA",
        "outputId": "336ea91a-6b9a-4121-a828-feb424bcdd36"
      },
      "execution_count": 30,
      "outputs": [
        {
          "output_type": "stream",
          "name": "stdout",
          "text": [
            "Epoch 1/10\n",
            "1018/1018 [==============================] - 504s 451ms/step - loss: 0.3471 - accuracy: 0.2036 - auc: 0.7008 - binary_accuracy: 0.8742 - val_loss: 0.3210 - val_accuracy: 0.2097 - val_auc: 0.7421 - val_binary_accuracy: 0.8805\n",
            "Epoch 2/10\n",
            "1018/1018 [==============================] - 448s 440ms/step - loss: 0.3261 - accuracy: 0.2140 - auc: 0.7261 - binary_accuracy: 0.8823 - val_loss: 0.3201 - val_accuracy: 0.2097 - val_auc: 0.7427 - val_binary_accuracy: 0.8805\n",
            "Epoch 3/10\n",
            "1018/1018 [==============================] - 445s 438ms/step - loss: 0.3236 - accuracy: 0.2140 - auc: 0.7301 - binary_accuracy: 0.8828 - val_loss: 0.3202 - val_accuracy: 0.2097 - val_auc: 0.7426 - val_binary_accuracy: 0.8805\n",
            "Epoch 4/10\n",
            "1018/1018 [==============================] - 445s 437ms/step - loss: 0.3224 - accuracy: 0.2140 - auc: 0.7321 - binary_accuracy: 0.8827 - val_loss: 0.3211 - val_accuracy: 0.2097 - val_auc: 0.7423 - val_binary_accuracy: 0.8805\n",
            "Epoch 5/10\n",
            "1018/1018 [==============================] - 445s 437ms/step - loss: 0.3218 - accuracy: 0.2141 - auc: 0.7336 - binary_accuracy: 0.8828 - val_loss: 0.3205 - val_accuracy: 0.2097 - val_auc: 0.7423 - val_binary_accuracy: 0.8805\n",
            "Epoch 6/10\n",
            "1018/1018 [==============================] - 446s 438ms/step - loss: 0.3214 - accuracy: 0.2140 - auc: 0.7342 - binary_accuracy: 0.8828 - val_loss: 0.3199 - val_accuracy: 0.2097 - val_auc: 0.7427 - val_binary_accuracy: 0.8805\n",
            "Epoch 7/10\n",
            "1018/1018 [==============================] - 445s 437ms/step - loss: 0.3210 - accuracy: 0.2140 - auc: 0.7350 - binary_accuracy: 0.8828 - val_loss: 0.3202 - val_accuracy: 0.2097 - val_auc: 0.7429 - val_binary_accuracy: 0.8805\n",
            "Epoch 8/10\n",
            "1018/1018 [==============================] - 445s 437ms/step - loss: 0.3207 - accuracy: 0.2140 - auc: 0.7356 - binary_accuracy: 0.8828 - val_loss: 0.3200 - val_accuracy: 0.2097 - val_auc: 0.7426 - val_binary_accuracy: 0.8805\n",
            "Epoch 9/10\n",
            "1018/1018 [==============================] - 445s 437ms/step - loss: 0.3203 - accuracy: 0.2140 - auc: 0.7361 - binary_accuracy: 0.8828 - val_loss: 0.3202 - val_accuracy: 0.2097 - val_auc: 0.7424 - val_binary_accuracy: 0.8805\n",
            "Epoch 10/10\n",
            "1018/1018 [==============================] - 445s 438ms/step - loss: 0.3201 - accuracy: 0.2140 - auc: 0.7367 - binary_accuracy: 0.8828 - val_loss: 0.3203 - val_accuracy: 0.2097 - val_auc: 0.7430 - val_binary_accuracy: 0.8805\n"
          ]
        }
      ]
    },
    {
      "cell_type": "code",
      "source": [
        "y_pred = text_model.predict([X_test_text, test_attention_mask])"
      ],
      "metadata": {
        "colab": {
          "base_uri": "https://localhost:8080/"
        },
        "id": "-knRKbAxBf4Y",
        "outputId": "42d130a6-220c-409f-fcfe-28eb4b438526"
      },
      "execution_count": 34,
      "outputs": [
        {
          "output_type": "stream",
          "name": "stdout",
          "text": [
            "107/107 [==============================] - 30s 256ms/step\n"
          ]
        }
      ]
    },
    {
      "cell_type": "code",
      "source": [
        "from sklearn.metrics import roc_auc_score\n",
        "roc_auc_score_avg = roc_auc_score(y_test, y_pred, average='micro')\n",
        "print(roc_auc_score_avg)"
      ],
      "metadata": {
        "colab": {
          "base_uri": "https://localhost:8080/"
        },
        "id": "xRspcX1bTiBF",
        "outputId": "6f9c05fe-0967-40a3-9816-321b29e4e367"
      },
      "execution_count": 35,
      "outputs": [
        {
          "output_type": "stream",
          "name": "stdout",
          "text": [
            "0.7446352927909147\n"
          ]
        }
      ]
    },
    {
      "cell_type": "code",
      "source": [
        "for i in range(len(y[0])):\n",
        "    print(f\"{i}. {genre_names[i]}: {y_test[:, i].sum()}\")"
      ],
      "metadata": {
        "colab": {
          "base_uri": "https://localhost:8080/"
        },
        "id": "CEf9X0u-T22r",
        "outputId": "fab62278-f403-4108-a9d2-2d409988c38e"
      },
      "execution_count": 36,
      "outputs": [
        {
          "output_type": "stream",
          "name": "stdout",
          "text": [
            "0. Action: 733\n",
            "1. Adventure: 624\n",
            "2. Animation: 296\n",
            "3. Biography: 313\n",
            "4. Comedy: 1118\n",
            "5. Crime: 513\n",
            "6. Drama: 1818\n",
            "7. Family: 312\n",
            "8. Fantasy: 293\n",
            "9. Film-Noir: 12\n",
            "10. History: 264\n",
            "11. Horror: 436\n",
            "12. Music: 296\n",
            "13. Musical: 247\n",
            "14. Mystery: 291\n",
            "15. Reality-TV: 0\n",
            "16. Romance: 568\n",
            "17. Sci-Fi: 241\n",
            "18. Sport: 211\n",
            "19. Thriller: 381\n",
            "20. War: 228\n",
            "21. Western: 36\n"
          ]
        }
      ]
    },
    {
      "cell_type": "code",
      "source": [
        "roc_auc_score_per_class = roc_auc_score(\n",
        "    np.delete(y_test, [15], axis=1),\n",
        "    np.delete(y_pred, [15], axis=1),\n",
        "    average=None,\n",
        "    multi_class='ovr',\n",
        "    )"
      ],
      "metadata": {
        "id": "AgOR1kxhT31I"
      },
      "execution_count": 37,
      "outputs": []
    },
    {
      "cell_type": "code",
      "source": [
        "roc_auc_scores_df = pd.DataFrame(data={\n",
        "    'genre': np.delete(genre_names, [15], axis=0),\n",
        "    'roc_auc': roc_auc_score_per_class,\n",
        "    'no. in y_test': np.delete(y_test, [15], axis=1).sum(axis=0),\n",
        "    'sum of prob. in y_pred': np.delete(y_pred, [15], axis=1).sum(axis=0)\n",
        "})"
      ],
      "metadata": {
        "id": "aYlba1fqT55b"
      },
      "execution_count": 38,
      "outputs": []
    },
    {
      "cell_type": "code",
      "source": [
        "roc_auc_scores_df"
      ],
      "metadata": {
        "colab": {
          "base_uri": "https://localhost:8080/",
          "height": 708
        },
        "id": "naA9eLpgT7I3",
        "outputId": "8047e9b1-3942-412c-feed-ecc2987c3afd"
      },
      "execution_count": 39,
      "outputs": [
        {
          "output_type": "execute_result",
          "data": {
            "text/plain": [
              "        genre   roc_auc  no. in y_test  sum of prob. in y_pred\n",
              "0      Action  0.504436            733              713.741455\n",
              "1   Adventure  0.518223            624              641.713806\n",
              "2   Animation  0.500246            296              265.309814\n",
              "3   Biography  0.485645            313              289.466248\n",
              "4      Comedy  0.493769           1118             1095.855469\n",
              "5       Crime  0.500214            513              433.003052\n",
              "6       Drama  0.500000           1818             1831.716919\n",
              "7      Family  0.496596            312              258.008240\n",
              "8     Fantasy  0.498263            293              265.977661\n",
              "9   Film-Noir  0.490741             12               20.149740\n",
              "10    History  0.501418            264              253.591202\n",
              "11     Horror  0.492907            436              415.082672\n",
              "12      Music  0.500000            296              252.289627\n",
              "13    Musical  0.503303            247              214.415894\n",
              "14    Mystery  0.505338            291              274.116058\n",
              "15    Romance  0.501080            568              570.735352\n",
              "16     Sci-Fi  0.500277            241              211.172043\n",
              "17      Sport  0.500000            211              160.104111\n",
              "18   Thriller  0.497628            381              333.605957\n",
              "19        War  0.556112            228              182.937607\n",
              "20    Western  0.509621             36               28.729462"
            ],
            "text/html": [
              "\n",
              "  <div id=\"df-9a6bf707-ad6e-4469-852b-9a4a226cc03d\" class=\"colab-df-container\">\n",
              "    <div>\n",
              "<style scoped>\n",
              "    .dataframe tbody tr th:only-of-type {\n",
              "        vertical-align: middle;\n",
              "    }\n",
              "\n",
              "    .dataframe tbody tr th {\n",
              "        vertical-align: top;\n",
              "    }\n",
              "\n",
              "    .dataframe thead th {\n",
              "        text-align: right;\n",
              "    }\n",
              "</style>\n",
              "<table border=\"1\" class=\"dataframe\">\n",
              "  <thead>\n",
              "    <tr style=\"text-align: right;\">\n",
              "      <th></th>\n",
              "      <th>genre</th>\n",
              "      <th>roc_auc</th>\n",
              "      <th>no. in y_test</th>\n",
              "      <th>sum of prob. in y_pred</th>\n",
              "    </tr>\n",
              "  </thead>\n",
              "  <tbody>\n",
              "    <tr>\n",
              "      <th>0</th>\n",
              "      <td>Action</td>\n",
              "      <td>0.504436</td>\n",
              "      <td>733</td>\n",
              "      <td>713.741455</td>\n",
              "    </tr>\n",
              "    <tr>\n",
              "      <th>1</th>\n",
              "      <td>Adventure</td>\n",
              "      <td>0.518223</td>\n",
              "      <td>624</td>\n",
              "      <td>641.713806</td>\n",
              "    </tr>\n",
              "    <tr>\n",
              "      <th>2</th>\n",
              "      <td>Animation</td>\n",
              "      <td>0.500246</td>\n",
              "      <td>296</td>\n",
              "      <td>265.309814</td>\n",
              "    </tr>\n",
              "    <tr>\n",
              "      <th>3</th>\n",
              "      <td>Biography</td>\n",
              "      <td>0.485645</td>\n",
              "      <td>313</td>\n",
              "      <td>289.466248</td>\n",
              "    </tr>\n",
              "    <tr>\n",
              "      <th>4</th>\n",
              "      <td>Comedy</td>\n",
              "      <td>0.493769</td>\n",
              "      <td>1118</td>\n",
              "      <td>1095.855469</td>\n",
              "    </tr>\n",
              "    <tr>\n",
              "      <th>5</th>\n",
              "      <td>Crime</td>\n",
              "      <td>0.500214</td>\n",
              "      <td>513</td>\n",
              "      <td>433.003052</td>\n",
              "    </tr>\n",
              "    <tr>\n",
              "      <th>6</th>\n",
              "      <td>Drama</td>\n",
              "      <td>0.500000</td>\n",
              "      <td>1818</td>\n",
              "      <td>1831.716919</td>\n",
              "    </tr>\n",
              "    <tr>\n",
              "      <th>7</th>\n",
              "      <td>Family</td>\n",
              "      <td>0.496596</td>\n",
              "      <td>312</td>\n",
              "      <td>258.008240</td>\n",
              "    </tr>\n",
              "    <tr>\n",
              "      <th>8</th>\n",
              "      <td>Fantasy</td>\n",
              "      <td>0.498263</td>\n",
              "      <td>293</td>\n",
              "      <td>265.977661</td>\n",
              "    </tr>\n",
              "    <tr>\n",
              "      <th>9</th>\n",
              "      <td>Film-Noir</td>\n",
              "      <td>0.490741</td>\n",
              "      <td>12</td>\n",
              "      <td>20.149740</td>\n",
              "    </tr>\n",
              "    <tr>\n",
              "      <th>10</th>\n",
              "      <td>History</td>\n",
              "      <td>0.501418</td>\n",
              "      <td>264</td>\n",
              "      <td>253.591202</td>\n",
              "    </tr>\n",
              "    <tr>\n",
              "      <th>11</th>\n",
              "      <td>Horror</td>\n",
              "      <td>0.492907</td>\n",
              "      <td>436</td>\n",
              "      <td>415.082672</td>\n",
              "    </tr>\n",
              "    <tr>\n",
              "      <th>12</th>\n",
              "      <td>Music</td>\n",
              "      <td>0.500000</td>\n",
              "      <td>296</td>\n",
              "      <td>252.289627</td>\n",
              "    </tr>\n",
              "    <tr>\n",
              "      <th>13</th>\n",
              "      <td>Musical</td>\n",
              "      <td>0.503303</td>\n",
              "      <td>247</td>\n",
              "      <td>214.415894</td>\n",
              "    </tr>\n",
              "    <tr>\n",
              "      <th>14</th>\n",
              "      <td>Mystery</td>\n",
              "      <td>0.505338</td>\n",
              "      <td>291</td>\n",
              "      <td>274.116058</td>\n",
              "    </tr>\n",
              "    <tr>\n",
              "      <th>15</th>\n",
              "      <td>Romance</td>\n",
              "      <td>0.501080</td>\n",
              "      <td>568</td>\n",
              "      <td>570.735352</td>\n",
              "    </tr>\n",
              "    <tr>\n",
              "      <th>16</th>\n",
              "      <td>Sci-Fi</td>\n",
              "      <td>0.500277</td>\n",
              "      <td>241</td>\n",
              "      <td>211.172043</td>\n",
              "    </tr>\n",
              "    <tr>\n",
              "      <th>17</th>\n",
              "      <td>Sport</td>\n",
              "      <td>0.500000</td>\n",
              "      <td>211</td>\n",
              "      <td>160.104111</td>\n",
              "    </tr>\n",
              "    <tr>\n",
              "      <th>18</th>\n",
              "      <td>Thriller</td>\n",
              "      <td>0.497628</td>\n",
              "      <td>381</td>\n",
              "      <td>333.605957</td>\n",
              "    </tr>\n",
              "    <tr>\n",
              "      <th>19</th>\n",
              "      <td>War</td>\n",
              "      <td>0.556112</td>\n",
              "      <td>228</td>\n",
              "      <td>182.937607</td>\n",
              "    </tr>\n",
              "    <tr>\n",
              "      <th>20</th>\n",
              "      <td>Western</td>\n",
              "      <td>0.509621</td>\n",
              "      <td>36</td>\n",
              "      <td>28.729462</td>\n",
              "    </tr>\n",
              "  </tbody>\n",
              "</table>\n",
              "</div>\n",
              "    <div class=\"colab-df-buttons\">\n",
              "\n",
              "  <div class=\"colab-df-container\">\n",
              "    <button class=\"colab-df-convert\" onclick=\"convertToInteractive('df-9a6bf707-ad6e-4469-852b-9a4a226cc03d')\"\n",
              "            title=\"Convert this dataframe to an interactive table.\"\n",
              "            style=\"display:none;\">\n",
              "\n",
              "  <svg xmlns=\"http://www.w3.org/2000/svg\" height=\"24px\" viewBox=\"0 -960 960 960\">\n",
              "    <path d=\"M120-120v-720h720v720H120Zm60-500h600v-160H180v160Zm220 220h160v-160H400v160Zm0 220h160v-160H400v160ZM180-400h160v-160H180v160Zm440 0h160v-160H620v160ZM180-180h160v-160H180v160Zm440 0h160v-160H620v160Z\"/>\n",
              "  </svg>\n",
              "    </button>\n",
              "\n",
              "  <style>\n",
              "    .colab-df-container {\n",
              "      display:flex;\n",
              "      gap: 12px;\n",
              "    }\n",
              "\n",
              "    .colab-df-convert {\n",
              "      background-color: #E8F0FE;\n",
              "      border: none;\n",
              "      border-radius: 50%;\n",
              "      cursor: pointer;\n",
              "      display: none;\n",
              "      fill: #1967D2;\n",
              "      height: 32px;\n",
              "      padding: 0 0 0 0;\n",
              "      width: 32px;\n",
              "    }\n",
              "\n",
              "    .colab-df-convert:hover {\n",
              "      background-color: #E2EBFA;\n",
              "      box-shadow: 0px 1px 2px rgba(60, 64, 67, 0.3), 0px 1px 3px 1px rgba(60, 64, 67, 0.15);\n",
              "      fill: #174EA6;\n",
              "    }\n",
              "\n",
              "    .colab-df-buttons div {\n",
              "      margin-bottom: 4px;\n",
              "    }\n",
              "\n",
              "    [theme=dark] .colab-df-convert {\n",
              "      background-color: #3B4455;\n",
              "      fill: #D2E3FC;\n",
              "    }\n",
              "\n",
              "    [theme=dark] .colab-df-convert:hover {\n",
              "      background-color: #434B5C;\n",
              "      box-shadow: 0px 1px 3px 1px rgba(0, 0, 0, 0.15);\n",
              "      filter: drop-shadow(0px 1px 2px rgba(0, 0, 0, 0.3));\n",
              "      fill: #FFFFFF;\n",
              "    }\n",
              "  </style>\n",
              "\n",
              "    <script>\n",
              "      const buttonEl =\n",
              "        document.querySelector('#df-9a6bf707-ad6e-4469-852b-9a4a226cc03d button.colab-df-convert');\n",
              "      buttonEl.style.display =\n",
              "        google.colab.kernel.accessAllowed ? 'block' : 'none';\n",
              "\n",
              "      async function convertToInteractive(key) {\n",
              "        const element = document.querySelector('#df-9a6bf707-ad6e-4469-852b-9a4a226cc03d');\n",
              "        const dataTable =\n",
              "          await google.colab.kernel.invokeFunction('convertToInteractive',\n",
              "                                                    [key], {});\n",
              "        if (!dataTable) return;\n",
              "\n",
              "        const docLinkHtml = 'Like what you see? Visit the ' +\n",
              "          '<a target=\"_blank\" href=https://colab.research.google.com/notebooks/data_table.ipynb>data table notebook</a>'\n",
              "          + ' to learn more about interactive tables.';\n",
              "        element.innerHTML = '';\n",
              "        dataTable['output_type'] = 'display_data';\n",
              "        await google.colab.output.renderOutput(dataTable, element);\n",
              "        const docLink = document.createElement('div');\n",
              "        docLink.innerHTML = docLinkHtml;\n",
              "        element.appendChild(docLink);\n",
              "      }\n",
              "    </script>\n",
              "  </div>\n",
              "\n",
              "\n",
              "<div id=\"df-fdf7c3fd-5119-4eb8-a480-2338892e6b7c\">\n",
              "  <button class=\"colab-df-quickchart\" onclick=\"quickchart('df-fdf7c3fd-5119-4eb8-a480-2338892e6b7c')\"\n",
              "            title=\"Suggest charts.\"\n",
              "            style=\"display:none;\">\n",
              "\n",
              "<svg xmlns=\"http://www.w3.org/2000/svg\" height=\"24px\"viewBox=\"0 0 24 24\"\n",
              "     width=\"24px\">\n",
              "    <g>\n",
              "        <path d=\"M19 3H5c-1.1 0-2 .9-2 2v14c0 1.1.9 2 2 2h14c1.1 0 2-.9 2-2V5c0-1.1-.9-2-2-2zM9 17H7v-7h2v7zm4 0h-2V7h2v10zm4 0h-2v-4h2v4z\"/>\n",
              "    </g>\n",
              "</svg>\n",
              "  </button>\n",
              "\n",
              "<style>\n",
              "  .colab-df-quickchart {\n",
              "      --bg-color: #E8F0FE;\n",
              "      --fill-color: #1967D2;\n",
              "      --hover-bg-color: #E2EBFA;\n",
              "      --hover-fill-color: #174EA6;\n",
              "      --disabled-fill-color: #AAA;\n",
              "      --disabled-bg-color: #DDD;\n",
              "  }\n",
              "\n",
              "  [theme=dark] .colab-df-quickchart {\n",
              "      --bg-color: #3B4455;\n",
              "      --fill-color: #D2E3FC;\n",
              "      --hover-bg-color: #434B5C;\n",
              "      --hover-fill-color: #FFFFFF;\n",
              "      --disabled-bg-color: #3B4455;\n",
              "      --disabled-fill-color: #666;\n",
              "  }\n",
              "\n",
              "  .colab-df-quickchart {\n",
              "    background-color: var(--bg-color);\n",
              "    border: none;\n",
              "    border-radius: 50%;\n",
              "    cursor: pointer;\n",
              "    display: none;\n",
              "    fill: var(--fill-color);\n",
              "    height: 32px;\n",
              "    padding: 0;\n",
              "    width: 32px;\n",
              "  }\n",
              "\n",
              "  .colab-df-quickchart:hover {\n",
              "    background-color: var(--hover-bg-color);\n",
              "    box-shadow: 0 1px 2px rgba(60, 64, 67, 0.3), 0 1px 3px 1px rgba(60, 64, 67, 0.15);\n",
              "    fill: var(--button-hover-fill-color);\n",
              "  }\n",
              "\n",
              "  .colab-df-quickchart-complete:disabled,\n",
              "  .colab-df-quickchart-complete:disabled:hover {\n",
              "    background-color: var(--disabled-bg-color);\n",
              "    fill: var(--disabled-fill-color);\n",
              "    box-shadow: none;\n",
              "  }\n",
              "\n",
              "  .colab-df-spinner {\n",
              "    border: 2px solid var(--fill-color);\n",
              "    border-color: transparent;\n",
              "    border-bottom-color: var(--fill-color);\n",
              "    animation:\n",
              "      spin 1s steps(1) infinite;\n",
              "  }\n",
              "\n",
              "  @keyframes spin {\n",
              "    0% {\n",
              "      border-color: transparent;\n",
              "      border-bottom-color: var(--fill-color);\n",
              "      border-left-color: var(--fill-color);\n",
              "    }\n",
              "    20% {\n",
              "      border-color: transparent;\n",
              "      border-left-color: var(--fill-color);\n",
              "      border-top-color: var(--fill-color);\n",
              "    }\n",
              "    30% {\n",
              "      border-color: transparent;\n",
              "      border-left-color: var(--fill-color);\n",
              "      border-top-color: var(--fill-color);\n",
              "      border-right-color: var(--fill-color);\n",
              "    }\n",
              "    40% {\n",
              "      border-color: transparent;\n",
              "      border-right-color: var(--fill-color);\n",
              "      border-top-color: var(--fill-color);\n",
              "    }\n",
              "    60% {\n",
              "      border-color: transparent;\n",
              "      border-right-color: var(--fill-color);\n",
              "    }\n",
              "    80% {\n",
              "      border-color: transparent;\n",
              "      border-right-color: var(--fill-color);\n",
              "      border-bottom-color: var(--fill-color);\n",
              "    }\n",
              "    90% {\n",
              "      border-color: transparent;\n",
              "      border-bottom-color: var(--fill-color);\n",
              "    }\n",
              "  }\n",
              "</style>\n",
              "\n",
              "  <script>\n",
              "    async function quickchart(key) {\n",
              "      const quickchartButtonEl =\n",
              "        document.querySelector('#' + key + ' button');\n",
              "      quickchartButtonEl.disabled = true;  // To prevent multiple clicks.\n",
              "      quickchartButtonEl.classList.add('colab-df-spinner');\n",
              "      try {\n",
              "        const charts = await google.colab.kernel.invokeFunction(\n",
              "            'suggestCharts', [key], {});\n",
              "      } catch (error) {\n",
              "        console.error('Error during call to suggestCharts:', error);\n",
              "      }\n",
              "      quickchartButtonEl.classList.remove('colab-df-spinner');\n",
              "      quickchartButtonEl.classList.add('colab-df-quickchart-complete');\n",
              "    }\n",
              "    (() => {\n",
              "      let quickchartButtonEl =\n",
              "        document.querySelector('#df-fdf7c3fd-5119-4eb8-a480-2338892e6b7c button');\n",
              "      quickchartButtonEl.style.display =\n",
              "        google.colab.kernel.accessAllowed ? 'block' : 'none';\n",
              "    })();\n",
              "  </script>\n",
              "</div>\n",
              "    </div>\n",
              "  </div>\n"
            ]
          },
          "metadata": {},
          "execution_count": 39
        }
      ]
    },
    {
      "cell_type": "code",
      "source": [],
      "metadata": {
        "id": "vMi6wz82T9jS"
      },
      "execution_count": null,
      "outputs": []
    }
  ]
}