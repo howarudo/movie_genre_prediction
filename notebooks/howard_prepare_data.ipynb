{
 "cells": [
  {
   "cell_type": "markdown",
   "metadata": {},
   "source": [
    "# Preprocessing Images to Numpy Arrays\n",
    "### **(Jupyter Notebook)**"
   ]
  },
  {
   "cell_type": "markdown",
   "metadata": {},
   "source": [
    "- Preprocessing raw images to np.array is done locally because uploading all the raw images to google colab is nearly impossible with the size. \n",
    "\n",
    "- Here, we will preprocess the raw images and save it as a npz file."
   ]
  },
  {
   "cell_type": "code",
   "execution_count": 2,
   "metadata": {},
   "outputs": [],
   "source": [
    "import pandas as pd\n",
    "import numpy as np\n",
    "\n",
    "from tqdm import tqdm\n",
    "from tensorflow.keras.preprocessing import image\n",
    "from PIL import UnidentifiedImageError"
   ]
  },
  {
   "cell_type": "code",
   "execution_count": 3,
   "metadata": {},
   "outputs": [
    {
     "data": {
      "text/html": [
       "<div>\n",
       "<style scoped>\n",
       "    .dataframe tbody tr th:only-of-type {\n",
       "        vertical-align: middle;\n",
       "    }\n",
       "\n",
       "    .dataframe tbody tr th {\n",
       "        vertical-align: top;\n",
       "    }\n",
       "\n",
       "    .dataframe thead th {\n",
       "        text-align: right;\n",
       "    }\n",
       "</style>\n",
       "<table border=\"1\" class=\"dataframe\">\n",
       "  <thead>\n",
       "    <tr style=\"text-align: right;\">\n",
       "      <th></th>\n",
       "      <th>imdb_id</th>\n",
       "      <th>genre</th>\n",
       "      <th>plot</th>\n",
       "    </tr>\n",
       "  </thead>\n",
       "  <tbody>\n",
       "    <tr>\n",
       "      <th>0</th>\n",
       "      <td>tt1517268</td>\n",
       "      <td>['Adventure', 'Comedy', 'Fantasy']</td>\n",
       "      <td>barbie suffers a crisis that leads her to ques...</td>\n",
       "    </tr>\n",
       "  </tbody>\n",
       "</table>\n",
       "</div>"
      ],
      "text/plain": [
       "     imdb_id                               genre  \\\n",
       "0  tt1517268  ['Adventure', 'Comedy', 'Fantasy']   \n",
       "\n",
       "                                                plot  \n",
       "0  barbie suffers a crisis that leads her to ques...  "
      ]
     },
     "execution_count": 3,
     "metadata": {},
     "output_type": "execute_result"
    }
   ],
   "source": [
    "BIG_DATA_CSV_FILE_PATH = \"../raw_data/big_data.csv\"\n",
    "big_data_df = pd.read_csv(BIG_DATA_CSV_FILE_PATH).drop(columns=['Unnamed: 0']).head(500)\n",
    "big_data_df.head(1)"
   ]
  },
  {
   "cell_type": "code",
   "execution_count": 4,
   "metadata": {},
   "outputs": [],
   "source": [
    "def get_image_array(\n",
    "    df: pd.DataFrame, \n",
    "    image_folder_path: str,\n",
    "    width=256, \n",
    "    height=256\n",
    "    ):\n",
    "    \"\"\"\n",
    "    Accepts a dataframe with an imdb_id column, searches for image named imdb_id.jpg\n",
    "    Returns a np.array of dimensions (no. of images, image_width, image_height, 3)\n",
    "    \"\"\"\n",
    "    image_array = np.zeros((df.shape[0],width, height, 3,), dtype=np.float32)\n",
    "    initial_total = df.shape[0]\n",
    "    unidentified_count, not_found_count = 0, 0\n",
    "    error_image_array_index = list()\n",
    "    for i in tqdm(range(df.shape[0])):\n",
    "        try:\n",
    "            image_path = f\"{image_folder_path}/{df['imdb_id'][i]}.jpg\"\n",
    "            img = image.load_img(image_path, target_size=(width, height, 3))\n",
    "            input_arr = np.asarray(image.img_to_array(img))\n",
    "            image_array[i] = input_arr\n",
    "        except UnidentifiedImageError as e1:\n",
    "            unidentified_count += 1\n",
    "            df = df.drop(index=i)\n",
    "            error_image_array_index.append(i)\n",
    "            pass\n",
    "        except FileNotFoundError as e2:\n",
    "            not_found_count += 1\n",
    "            df = df.drop(index=i)\n",
    "            error_image_array_index.append(i)\n",
    "            pass\n",
    "    clean_image_array = np.delete(image_array, error_image_array_index, axis=0)\n",
    "    print(f\"{unidentified_count} files were unidentified\\n{not_found_count} files were not found\")\n",
    "    print(f\"{len(clean_image_array)}/{initial_total} processed\")\n",
    "    assert df.shape[0] == len(clean_image_array)\n",
    "    return df, image_array"
   ]
  },
  {
   "cell_type": "code",
   "execution_count": 6,
   "metadata": {},
   "outputs": [
    {
     "name": "stderr",
     "output_type": "stream",
     "text": [
      "100%|██████████| 500/500 [00:01<00:00, 289.34it/s]\n"
     ]
    },
    {
     "name": "stdout",
     "output_type": "stream",
     "text": [
      "0 files were unidentified\n",
      "56 files were not found\n",
      "444/500 processed\n"
     ]
    }
   ],
   "source": [
    "IMAGE_FOLDER_PATH = \"../raw_data/big_data_images\"\n",
    "clean_big_data_df, clean_image_array = get_image_array(big_data_df, IMAGE_FOLDER_PATH)"
   ]
  },
  {
   "cell_type": "code",
   "execution_count": 8,
   "metadata": {},
   "outputs": [],
   "source": [
    "CLEAN_DATA_FOLDER_PATH = \"../raw_data/clean_data\"\n",
    "clean_big_data_df.to_csv(f\"{CLEAN_DATA_FOLDER_PATH}/clean_big_data.csv\")\n",
    "np.save(f\"{CLEAN_DATA_FOLDER_PATH}/clean_image_array\", clean_image_array)"
   ]
  },
  {
   "cell_type": "code",
   "execution_count": null,
   "metadata": {},
   "outputs": [],
   "source": []
  },
  {
   "cell_type": "code",
   "execution_count": null,
   "metadata": {},
   "outputs": [],
   "source": []
  }
 ],
 "metadata": {
  "kernelspec": {
   "display_name": "movie_genre_prediction",
   "language": "python",
   "name": "python3"
  },
  "language_info": {
   "codemirror_mode": {
    "name": "ipython",
    "version": 3
   },
   "file_extension": ".py",
   "mimetype": "text/x-python",
   "name": "python",
   "nbconvert_exporter": "python",
   "pygments_lexer": "ipython3",
   "version": "3.10.6"
  },
  "orig_nbformat": 4
 },
 "nbformat": 4,
 "nbformat_minor": 2
}
